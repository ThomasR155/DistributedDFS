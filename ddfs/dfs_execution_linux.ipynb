{
 "cells": [
  {
   "cell_type": "markdown",
   "metadata": {},
   "source": [
    "# Semester Project in Distributed Algorithms by Raphael Duarte and Thomas Riedl\n",
    "\n",
    "## Implementation of Distributed Depth-First-Search with gRPC and Docker"
   ]
  },
  {
   "cell_type": "code",
   "execution_count": 1,
   "metadata": {},
   "outputs": [],
   "source": [
    "import yaml\n",
    "import numpy as np\n",
    "import networkx as nx\n",
    "import matplotlib.pyplot as plt\n",
    "#own module\n",
    "import dfs_containerization as dfs_con\n",
    "import subprocess\n",
    "\n",
    "\n",
    "# specify the graph of distributed nodes with edge list, all used nodes will be part of the graph\n",
    "edge_list = [[1,7], [1,2], [1,4], [1,6],\n",
    "             [2,1], [2,4], [2,3],\n",
    "             [3,2], [3,4], [3,6], [3,5], [3,7], [3,8], [3,10],\n",
    "             [4,1], [4,2], [4,3],[4,6], \n",
    "             [5,1], [5,3], [5,7],\n",
    "             [6,4], [6,3], [6,10],\n",
    "             [7,5], [7,3], [7,8],\n",
    "             [8,3], [8,7],\n",
    "             [10,3],[10,6]]"
   ]
  },
  {
   "cell_type": "code",
   "execution_count": 2,
   "metadata": {},
   "outputs": [
    {
     "data": {
      "image/png": "[encoded data removed]",
      "text/plain": [
       "<Figure size 432x288 with 1 Axes>"
      ]
     },
     "metadata": {},
     "output_type": "display_data"
    }
   ],
   "source": [
    "#plot the input graph\n",
    "dfs_con.plot_input_graph(edge_list)"
   ]
  },
  {
   "cell_type": "code",
   "execution_count": 3,
   "metadata": {},
   "outputs": [
    {
     "name": "stdout",
     "output_type": "stream",
     "text": [
      "direct neighbours for each node:\n",
      "{1: [7, 6, 5, 4, 2], 2: [4, 3, 1], 3: [10, 8, 7, 6, 5, 4, 2], 4: [6, 3, 2, 1], 5: [7, 3, 1], 6: [10, 4, 3, 1], 7: [8, 5, 3, 1], 8: [7, 3], 10: [6, 3]}\n"
     ]
    }
   ],
   "source": [
    "# create an overview of neigbours for each node of the graph and save result as \"neighbours.yml\"\n",
    "dfs_con.get_neigbours_yaml(edge_list)"
   ]
  },
  {
   "cell_type": "code",
   "execution_count": 4,
   "metadata": {},
   "outputs": [
    {
     "name": "stdout",
     "output_type": "stream",
     "text": [
      "provided IP configuration for a graph of up to 10 nodes:\n",
      "{1: '172.20.0.11', 2: '172.20.0.12', 3: '172.20.0.13', 4: '172.20.0.14', 5: '172.20.0.15', 6: '172.20.0.16', 7: '172.20.0.17', 8: '172.20.0.18', 9: '172.20.0.19', 10: '172.20.0.20', 'subnet': '172.20.0.0/24'}\n"
     ]
    }
   ],
   "source": [
    "# specify which IP addresses should be used for the different containers in \"ip_configuration.yml\"\n",
    "with open(\"ip_configuration.yml\",'r') as file_ip:\n",
    "    dict_ip = yaml.safe_load(file_ip)\n",
    "    print(\"provided IP configuration for a graph of up to 10 nodes:\")\n",
    "    print(dict_ip)"
   ]
  },
  {
   "cell_type": "code",
   "execution_count": 5,
   "metadata": {},
   "outputs": [
    {
     "name": "stdout",
     "output_type": "stream",
     "text": [
      "Initialization of Node 1:\n",
      "{'build': {'context': '.', 'args': {'PORT': 50051, 'NODE_ID': 1}}, 'networks': {'frontend': {'ipv4_address': '172.20.0.11'}}, 'command': \"/bin/sh -c 'python3 dfs_server.py'\", 'container_name': 'node1', 'volumes': ['./output:/grpc-docker/ddfs/output']}\n"
     ]
    }
   ],
   "source": [
    "#Setup which port should be used for the gRPC communication between the nodes\n",
    "PORT = 50051\n",
    "\n",
    "# setup each node as docker container by generating a docker-compose file\n",
    "nodes=dfs_con.write_docker_compose_yml(edge_list, PORT)"
   ]
  },
  {
   "cell_type": "code",
   "execution_count": 6,
   "metadata": {},
   "outputs": [
    {
     "name": "stdout",
     "output_type": "stream",
     "text": [
      "Building n1\n",
      "Sending build context to Docker daemon  1.318MB\n",
      "Step 1/12 : FROM ubuntu:latest\n",
      " ---> 6b7dfa7e8fdb\n",
      "Step 2/12 : RUN apt-get update && apt-get install -y python3 python3-pip\n",
      " ---> Using cache\n",
      " ---> e65a308509b5\n",
      "Step 3/12 : COPY ./requirements_docker.txt /requirements_docker.txt\n",
      " ---> Using cache\n",
      " ---> d1691fa95ca7\n",
      "Step 4/12 : RUN pip3 install -r /requirements_docker.txt\n",
      " ---> Using cache\n",
      " ---> 58cb7d8c2d59\n",
      "Step 5/12 : RUN mkdir /grpc-docker\n",
      " ---> Using cache\n",
      " ---> 82d50d1caa08\n",
      "Step 6/12 : COPY . /grpc-docker\n",
      " ---> 02c543a6a9be\n",
      "Step 7/12 : WORKDIR /grpc-docker/ddfs\n",
      " ---> Running in 3f328abab187\n",
      "Removing intermediate container 3f328abab187\n",
      " ---> 7dd7100d7324\n",
      "Step 8/12 : ARG PORT\n",
      " ---> Running in 8d59aef3b627\n",
      "Removing intermediate container 8d59aef3b627\n",
      " ---> 2fecd26fb8c1\n",
      "Step 9/12 : ENV PORT \"${PORT}\"\n",
      " ---> Running in f54c93efb425\n",
      "Removing intermediate container f54c93efb425\n",
      " ---> 78982cba64ab\n",
      "Step 10/12 : ARG NODE_ID\n",
      " ---> Running in c0d4cd465d7d\n",
      "Removing intermediate container c0d4cd465d7d\n",
      " ---> c61d3f1e3930\n",
      "Step 11/12 : ENV NODE_ID \"${NODE_ID}\"\n",
      " ---> Running in 55dcf17845a2\n",
      "Removing intermediate container 55dcf17845a2\n",
      " ---> 95b80cb2495d\n",
      "Step 12/12 : RUN [\"python3\", \"-m\",  \"grpc_tools.protoc\" ,\"-I.\" ,\"--python_out=.\",  \"--pyi_out=.\", \"--grpc_python_out=.\", \"dfs.proto\"]\n",
      " ---> Running in de9724402008\n",
      "Removing intermediate container de9724402008\n",
      " ---> 602e8634683f\n",
      "Successfully built 602e8634683f\n",
      "Successfully tagged distributeddfs_n1:latest\n",
      "Building n10\n",
      "Sending build context to Docker daemon  1.318MB\n",
      "Step 1/12 : FROM ubuntu:latest\n",
      " ---> 6b7dfa7e8fdb\n",
      "Step 2/12 : RUN apt-get update && apt-get install -y python3 python3-pip\n",
      " ---> Using cache\n",
      " ---> e65a308509b5\n",
      "Step 3/12 : COPY ./requirements_docker.txt /requirements_docker.txt\n",
      " ---> Using cache\n",
      " ---> d1691fa95ca7\n",
      "Step 4/12 : RUN pip3 install -r /requirements_docker.txt\n",
      " ---> Using cache\n",
      " ---> 58cb7d8c2d59\n",
      "Step 5/12 : RUN mkdir /grpc-docker\n",
      " ---> Using cache\n",
      " ---> 82d50d1caa08\n",
      "Step 6/12 : COPY . /grpc-docker\n",
      " ---> Using cache\n",
      " ---> 02c543a6a9be\n",
      "Step 7/12 : WORKDIR /grpc-docker/ddfs\n",
      " ---> Using cache\n",
      " ---> 7dd7100d7324\n",
      "Step 8/12 : ARG PORT\n",
      " ---> Using cache\n",
      " ---> 2fecd26fb8c1\n",
      "Step 9/12 : ENV PORT \"${PORT}\"\n",
      " ---> Using cache\n",
      " ---> 78982cba64ab\n",
      "Step 10/12 : ARG NODE_ID\n",
      " ---> Using cache\n",
      " ---> c61d3f1e3930\n",
      "Step 11/12 : ENV NODE_ID \"${NODE_ID}\"\n",
      " ---> Running in c00c0707801f\n",
      "Removing intermediate container c00c0707801f\n",
      " ---> 9400b5c0b6fa\n",
      "Step 12/12 : RUN [\"python3\", \"-m\",  \"grpc_tools.protoc\" ,\"-I.\" ,\"--python_out=.\",  \"--pyi_out=.\", \"--grpc_python_out=.\", \"dfs.proto\"]\n",
      " ---> Running in f5c2b0b641e1\n",
      "Removing intermediate container f5c2b0b641e1\n",
      " ---> fe773a03295a\n",
      "Successfully built fe773a03295a\n",
      "Successfully tagged distributeddfs_n10:latest\n",
      "Building n2\n",
      "Sending build context to Docker daemon  1.318MB\n",
      "Step 1/12 : FROM ubuntu:latest\n",
      " ---> 6b7dfa7e8fdb\n",
      "Step 2/12 : RUN apt-get update && apt-get install -y python3 python3-pip\n",
      " ---> Using cache\n",
      " ---> e65a308509b5\n",
      "Step 3/12 : COPY ./requirements_docker.txt /requirements_docker.txt\n",
      " ---> Using cache\n",
      " ---> d1691fa95ca7\n",
      "Step 4/12 : RUN pip3 install -r /requirements_docker.txt\n",
      " ---> Using cache\n",
      " ---> 58cb7d8c2d59\n",
      "Step 5/12 : RUN mkdir /grpc-docker\n",
      " ---> Using cache\n",
      " ---> 82d50d1caa08\n",
      "Step 6/12 : COPY . /grpc-docker\n",
      " ---> Using cache\n",
      " ---> 02c543a6a9be\n",
      "Step 7/12 : WORKDIR /grpc-docker/ddfs\n",
      " ---> Using cache\n",
      " ---> 7dd7100d7324\n",
      "Step 8/12 : ARG PORT\n",
      " ---> Using cache\n",
      " ---> 2fecd26fb8c1\n",
      "Step 9/12 : ENV PORT \"${PORT}\"\n",
      " ---> Using cache\n",
      " ---> 78982cba64ab\n",
      "Step 10/12 : ARG NODE_ID\n",
      " ---> Using cache\n",
      " ---> c61d3f1e3930\n",
      "Step 11/12 : ENV NODE_ID \"${NODE_ID}\"\n",
      " ---> Running in d1899ccc256a\n",
      "Removing intermediate container d1899ccc256a\n",
      " ---> cfce688fe224\n",
      "Step 12/12 : RUN [\"python3\", \"-m\",  \"grpc_tools.protoc\" ,\"-I.\" ,\"--python_out=.\",  \"--pyi_out=.\", \"--grpc_python_out=.\", \"dfs.proto\"]\n",
      " ---> Running in fdaf6652f526\n",
      "Removing intermediate container fdaf6652f526\n",
      " ---> 0c8afd9f3cac\n",
      "Successfully built 0c8afd9f3cac\n",
      "Successfully tagged distributeddfs_n2:latest\n",
      "Building n3\n",
      "Sending build context to Docker daemon  1.318MB\n",
      "Step 1/12 : FROM ubuntu:latest\n",
      " ---> 6b7dfa7e8fdb\n",
      "Step 2/12 : RUN apt-get update && apt-get install -y python3 python3-pip\n",
      " ---> Using cache\n",
      " ---> e65a308509b5\n",
      "Step 3/12 : COPY ./requirements_docker.txt /requirements_docker.txt\n",
      " ---> Using cache\n",
      " ---> d1691fa95ca7\n",
      "Step 4/12 : RUN pip3 install -r /requirements_docker.txt\n",
      " ---> Using cache\n",
      " ---> 58cb7d8c2d59\n",
      "Step 5/12 : RUN mkdir /grpc-docker\n",
      " ---> Using cache\n",
      " ---> 82d50d1caa08\n",
      "Step 6/12 : COPY . /grpc-docker\n",
      " ---> Using cache\n",
      " ---> 02c543a6a9be\n",
      "Step 7/12 : WORKDIR /grpc-docker/ddfs\n",
      " ---> Using cache\n",
      " ---> 7dd7100d7324\n",
      "Step 8/12 : ARG PORT\n",
      " ---> Using cache\n",
      " ---> 2fecd26fb8c1\n",
      "Step 9/12 : ENV PORT \"${PORT}\"\n",
      " ---> Using cache\n",
      " ---> 78982cba64ab\n",
      "Step 10/12 : ARG NODE_ID\n",
      " ---> Using cache\n",
      " ---> c61d3f1e3930\n",
      "Step 11/12 : ENV NODE_ID \"${NODE_ID}\"\n",
      " ---> Running in 4063b62a4c0f\n",
      "Removing intermediate container 4063b62a4c0f\n",
      " ---> 125837f68d08\n",
      "Step 12/12 : RUN [\"python3\", \"-m\",  \"grpc_tools.protoc\" ,\"-I.\" ,\"--python_out=.\",  \"--pyi_out=.\", \"--grpc_python_out=.\", \"dfs.proto\"]\n",
      " ---> Running in a2a2aa1929cd\n",
      "Removing intermediate container a2a2aa1929cd\n",
      " ---> f94840a2e217\n",
      "Successfully built f94840a2e217\n",
      "Successfully tagged distributeddfs_n3:latest\n",
      "Building n4\n",
      "Sending build context to Docker daemon  1.318MB\n",
      "Step 1/12 : FROM ubuntu:latest\n",
      " ---> 6b7dfa7e8fdb\n",
      "Step 2/12 : RUN apt-get update && apt-get install -y python3 python3-pip\n",
      " ---> Using cache\n",
      " ---> e65a308509b5\n",
      "Step 3/12 : COPY ./requirements_docker.txt /requirements_docker.txt\n",
      " ---> Using cache\n",
      " ---> d1691fa95ca7\n",
      "Step 4/12 : RUN pip3 install -r /requirements_docker.txt\n",
      " ---> Using cache\n",
      " ---> 58cb7d8c2d59\n",
      "Step 5/12 : RUN mkdir /grpc-docker\n",
      " ---> Using cache\n",
      " ---> 82d50d1caa08\n",
      "Step 6/12 : COPY . /grpc-docker\n",
      " ---> Using cache\n",
      " ---> 02c543a6a9be\n",
      "Step 7/12 : WORKDIR /grpc-docker/ddfs\n",
      " ---> Using cache\n",
      " ---> 7dd7100d7324\n",
      "Step 8/12 : ARG PORT\n",
      " ---> Using cache\n",
      " ---> 2fecd26fb8c1\n",
      "Step 9/12 : ENV PORT \"${PORT}\"\n",
      " ---> Using cache\n",
      " ---> 78982cba64ab\n",
      "Step 10/12 : ARG NODE_ID\n",
      " ---> Using cache\n",
      " ---> c61d3f1e3930\n",
      "Step 11/12 : ENV NODE_ID \"${NODE_ID}\"\n",
      " ---> Running in 7555ea10b77c\n",
      "Removing intermediate container 7555ea10b77c\n",
      " ---> 09e0eca21045\n",
      "Step 12/12 : RUN [\"python3\", \"-m\",  \"grpc_tools.protoc\" ,\"-I.\" ,\"--python_out=.\",  \"--pyi_out=.\", \"--grpc_python_out=.\", \"dfs.proto\"]\n",
      " ---> Running in 2fe2c0665e44\n",
      "Removing intermediate container 2fe2c0665e44\n",
      " ---> df0918231a39\n",
      "Successfully built df0918231a39\n",
      "Successfully tagged distributeddfs_n4:latest\n",
      "Building n5\n",
      "Sending build context to Docker daemon  1.318MB\n",
      "Step 1/12 : FROM ubuntu:latest\n",
      " ---> 6b7dfa7e8fdb\n",
      "Step 2/12 : RUN apt-get update && apt-get install -y python3 python3-pip\n",
      " ---> Using cache\n",
      " ---> e65a308509b5\n",
      "Step 3/12 : COPY ./requirements_docker.txt /requirements_docker.txt\n",
      " ---> Using cache\n",
      " ---> d1691fa95ca7\n",
      "Step 4/12 : RUN pip3 install -r /requirements_docker.txt\n",
      " ---> Using cache\n",
      " ---> 58cb7d8c2d59\n",
      "Step 5/12 : RUN mkdir /grpc-docker\n",
      " ---> Using cache\n",
      " ---> 82d50d1caa08\n",
      "Step 6/12 : COPY . /grpc-docker\n",
      " ---> Using cache\n",
      " ---> 02c543a6a9be\n",
      "Step 7/12 : WORKDIR /grpc-docker/ddfs\n",
      " ---> Using cache\n",
      " ---> 7dd7100d7324\n",
      "Step 8/12 : ARG PORT\n",
      " ---> Using cache\n",
      " ---> 2fecd26fb8c1\n",
      "Step 9/12 : ENV PORT \"${PORT}\"\n",
      " ---> Using cache\n",
      " ---> 78982cba64ab\n",
      "Step 10/12 : ARG NODE_ID\n",
      " ---> Using cache\n",
      " ---> c61d3f1e3930\n",
      "Step 11/12 : ENV NODE_ID \"${NODE_ID}\"\n",
      " ---> Running in ad838fa947a6\n",
      "Removing intermediate container ad838fa947a6\n",
      " ---> bc6789bbebf6\n",
      "Step 12/12 : RUN [\"python3\", \"-m\",  \"grpc_tools.protoc\" ,\"-I.\" ,\"--python_out=.\",  \"--pyi_out=.\", \"--grpc_python_out=.\", \"dfs.proto\"]\n",
      " ---> Running in 02290ab7fe73\n",
      "Removing intermediate container 02290ab7fe73\n",
      " ---> 7833eb10cb16\n",
      "Successfully built 7833eb10cb16\n",
      "Successfully tagged distributeddfs_n5:latest\n",
      "Building n6\n",
      "Sending build context to Docker daemon  1.318MB\n",
      "Step 1/12 : FROM ubuntu:latest\n",
      " ---> 6b7dfa7e8fdb\n",
      "Step 2/12 : RUN apt-get update && apt-get install -y python3 python3-pip\n",
      " ---> Using cache\n",
      " ---> e65a308509b5\n",
      "Step 3/12 : COPY ./requirements_docker.txt /requirements_docker.txt\n",
      " ---> Using cache\n",
      " ---> d1691fa95ca7\n",
      "Step 4/12 : RUN pip3 install -r /requirements_docker.txt\n",
      " ---> Using cache\n",
      " ---> 58cb7d8c2d59\n",
      "Step 5/12 : RUN mkdir /grpc-docker\n",
      " ---> Using cache\n",
      " ---> 82d50d1caa08\n",
      "Step 6/12 : COPY . /grpc-docker\n",
      " ---> Using cache\n",
      " ---> 02c543a6a9be\n",
      "Step 7/12 : WORKDIR /grpc-docker/ddfs\n",
      " ---> Using cache\n",
      " ---> 7dd7100d7324\n",
      "Step 8/12 : ARG PORT\n",
      " ---> Using cache\n",
      " ---> 2fecd26fb8c1\n",
      "Step 9/12 : ENV PORT \"${PORT}\"\n",
      " ---> Using cache\n",
      " ---> 78982cba64ab\n",
      "Step 10/12 : ARG NODE_ID\n",
      " ---> Using cache\n",
      " ---> c61d3f1e3930\n",
      "Step 11/12 : ENV NODE_ID \"${NODE_ID}\"\n"
     ]
    },
    {
     "name": "stdout",
     "output_type": "stream",
     "text": [
      " ---> Running in ba12a7b46645\n",
      "Removing intermediate container ba12a7b46645\n",
      " ---> b8a330eae465\n",
      "Step 12/12 : RUN [\"python3\", \"-m\",  \"grpc_tools.protoc\" ,\"-I.\" ,\"--python_out=.\",  \"--pyi_out=.\", \"--grpc_python_out=.\", \"dfs.proto\"]\n",
      " ---> Running in c910991592dc\n",
      "Removing intermediate container c910991592dc\n",
      " ---> 5722804d2663\n",
      "Successfully built 5722804d2663\n",
      "Successfully tagged distributeddfs_n6:latest\n",
      "Building n7\n",
      "Sending build context to Docker daemon  1.318MB\n",
      "Step 1/12 : FROM ubuntu:latest\n",
      " ---> 6b7dfa7e8fdb\n",
      "Step 2/12 : RUN apt-get update && apt-get install -y python3 python3-pip\n",
      " ---> Using cache\n",
      " ---> e65a308509b5\n",
      "Step 3/12 : COPY ./requirements_docker.txt /requirements_docker.txt\n",
      " ---> Using cache\n",
      " ---> d1691fa95ca7\n",
      "Step 4/12 : RUN pip3 install -r /requirements_docker.txt\n",
      " ---> Using cache\n",
      " ---> 58cb7d8c2d59\n",
      "Step 5/12 : RUN mkdir /grpc-docker\n",
      " ---> Using cache\n",
      " ---> 82d50d1caa08\n",
      "Step 6/12 : COPY . /grpc-docker\n",
      " ---> Using cache\n",
      " ---> 02c543a6a9be\n",
      "Step 7/12 : WORKDIR /grpc-docker/ddfs\n",
      " ---> Using cache\n",
      " ---> 7dd7100d7324\n",
      "Step 8/12 : ARG PORT\n",
      " ---> Using cache\n",
      " ---> 2fecd26fb8c1\n",
      "Step 9/12 : ENV PORT \"${PORT}\"\n",
      " ---> Using cache\n",
      " ---> 78982cba64ab\n",
      "Step 10/12 : ARG NODE_ID\n",
      " ---> Using cache\n",
      " ---> c61d3f1e3930\n",
      "Step 11/12 : ENV NODE_ID \"${NODE_ID}\"\n",
      " ---> Running in b0277225cec8\n",
      "Removing intermediate container b0277225cec8\n",
      " ---> 1ff306581aff\n",
      "Step 12/12 : RUN [\"python3\", \"-m\",  \"grpc_tools.protoc\" ,\"-I.\" ,\"--python_out=.\",  \"--pyi_out=.\", \"--grpc_python_out=.\", \"dfs.proto\"]\n",
      " ---> Running in 9121d2088553\n",
      "Removing intermediate container 9121d2088553\n",
      " ---> c7b8fcccf26b\n",
      "Successfully built c7b8fcccf26b\n",
      "Successfully tagged distributeddfs_n7:latest\n",
      "Building n8\n",
      "Sending build context to Docker daemon  1.318MB\n",
      "Step 1/12 : FROM ubuntu:latest\n",
      " ---> 6b7dfa7e8fdb\n",
      "Step 2/12 : RUN apt-get update && apt-get install -y python3 python3-pip\n",
      " ---> Using cache\n",
      " ---> e65a308509b5\n",
      "Step 3/12 : COPY ./requirements_docker.txt /requirements_docker.txt\n",
      " ---> Using cache\n",
      " ---> d1691fa95ca7\n",
      "Step 4/12 : RUN pip3 install -r /requirements_docker.txt\n",
      " ---> Using cache\n",
      " ---> 58cb7d8c2d59\n",
      "Step 5/12 : RUN mkdir /grpc-docker\n",
      " ---> Using cache\n",
      " ---> 82d50d1caa08\n",
      "Step 6/12 : COPY . /grpc-docker\n",
      " ---> Using cache\n",
      " ---> 02c543a6a9be\n",
      "Step 7/12 : WORKDIR /grpc-docker/ddfs\n",
      " ---> Using cache\n",
      " ---> 7dd7100d7324\n",
      "Step 8/12 : ARG PORT\n",
      " ---> Using cache\n",
      " ---> 2fecd26fb8c1\n",
      "Step 9/12 : ENV PORT \"${PORT}\"\n",
      " ---> Using cache\n",
      " ---> 78982cba64ab\n",
      "Step 10/12 : ARG NODE_ID\n",
      " ---> Using cache\n",
      " ---> c61d3f1e3930\n",
      "Step 11/12 : ENV NODE_ID \"${NODE_ID}\"\n",
      " ---> Running in 9300610eb9ba\n",
      "Removing intermediate container 9300610eb9ba\n",
      " ---> 7ae0da535f62\n",
      "Step 12/12 : RUN [\"python3\", \"-m\",  \"grpc_tools.protoc\" ,\"-I.\" ,\"--python_out=.\",  \"--pyi_out=.\", \"--grpc_python_out=.\", \"dfs.proto\"]\n",
      " ---> Running in 6c16235d99ec\n",
      "Removing intermediate container 6c16235d99ec\n",
      " ---> 1eb5183b4e68\n",
      "Successfully built 1eb5183b4e68\n",
      "Successfully tagged distributeddfs_n8:latest\n"
     ]
    }
   ],
   "source": [
    "# build docker images of each Node according to generated docker-compose.yml file\n",
    "!docker-compose build\n"
   ]
  },
  {
   "cell_type": "code",
   "execution_count": 7,
   "metadata": {},
   "outputs": [
    {
     "name": "stdout",
     "output_type": "stream",
     "text": [
      "Recreating node5 ... \n",
      "Recreating node2 ... \n",
      "Recreating node10 ... \n",
      "Recreating node4  ... \n",
      "Recreating node1  ... \n",
      "Recreating node3  ... \n",
      "Recreating node7  ... \n",
      "Recreating node6  ... \n",
      "Recreating node8  ... \n",
      "\u001b[2Beating node6  ... \u001b[32mdone\u001b[0m\u001b[9A\u001b[2K\u001b[4A\u001b[2K\u001b[6A\u001b[2K\u001b[5A\u001b[2K\u001b[1A\u001b[2K\u001b[2A\u001b[2K"
     ]
    }
   ],
   "source": [
    "# start all created docker images as docker containers\n",
    "# the protocol buffers are being built with start up\n",
    "# the required code for DDFS is launched with start up (dfs_server.py)\n",
    "!docker-compose up -d"
   ]
  },
  {
   "cell_type": "code",
   "execution_count": 10,
   "metadata": {},
   "outputs": [
    {
     "name": "stdout",
     "output_type": "stream",
     "text": [
      "Root:  1\r\n",
      "Will try to greet world ...\r\n",
      "Connected to server: Hello, 1! from 1 successfully.\r\n",
      "Greeted Neighbour: Hello, 1! from 2\r\n",
      "Child: 10 Parent: 6\r\n",
      "Child: 6 Parent: 4\r\n",
      "Child: 8 Parent: 7\r\n",
      "Child: 7 Parent: 5\r\n",
      "Child: 4 Parent: 3\r\n",
      "Child: 5 Parent: 3\r\n",
      "Child: 3 Parent: 2\r\n",
      "Child: 2 Parent: 1\r\n"
     ]
    }
   ],
   "source": [
    "# start the DDFS on the root node\n",
    "ROOT = 1\n",
    "# enter the desired docker container and run dfs_client.py which will start the DDFS with the current node as root\n",
    "root = 'node{}'.format(ROOT)\n",
    "!docker exec {root} python3 dfs_client.py\n"
   ]
  },
  {
   "cell_type": "code",
   "execution_count": 11,
   "metadata": {},
   "outputs": [
    {
     "data": {
      "image/png": "[encoded data removed]",
      "text/plain": [
       "<Figure size 432x288 with 1 Axes>"
      ]
     },
     "metadata": {
      "needs_background": "light"
     },
     "output_type": "display_data"
    }
   ],
   "source": [
    "#plot the minimum spanning tree (saved in output/mst.png)\n",
    "plt.imshow(plt.imread(\"../output/spanning_tree_root_{}.png\".format(ROOT)))\n",
    "plt.show()"
   ]
  },
  {
   "cell_type": "code",
   "execution_count": 14,
   "metadata": {},
   "outputs": [
    {
     "name": "stdout",
     "output_type": "stream",
     "text": [
      "Root:  5\r\n",
      "Will try to greet world ...\r\n",
      "Connected to server: Hello, 5! from 5 successfully.\r\n",
      "Greeted Neighbour: Hello, 5! from 1\r\n",
      "Child: 10 Parent: 6\r\n",
      "Child: 6 Parent: 4\r\n",
      "Child: 8 Parent: 7\r\n",
      "Child: 4 Parent: 3\r\n",
      "Child: 7 Parent: 3\r\n",
      "Child: 3 Parent: 2\r\n",
      "Child: 2 Parent: 1\r\n",
      "Child: 1 Parent: 5\r\n"
     ]
    },
    {
     "data": {
      "image/png": "[encoded data removed]",
      "text/plain": [
       "<Figure size 432x288 with 1 Axes>"
      ]
     },
     "metadata": {
      "needs_background": "light"
     },
     "output_type": "display_data"
    }
   ],
   "source": [
    "# use a different Node as Root\n",
    "# start the DDFS on the root node\n",
    "ROOT = 5\n",
    "# enter the desired docker container and run dfs_client.py which will start the DDFS with the current node as root\n",
    "root = 'node{}'.format(ROOT)\n",
    "!docker exec {root} python3 dfs_client.py\n",
    "plt.imshow(plt.imread(\"../output/spanning_tree_root_{}.png\".format(ROOT)))\n",
    "plt.show()"
   ]
  },
  {
   "cell_type": "code",
   "execution_count": 15,
   "metadata": {},
   "outputs": [
    {
     "name": "stdout",
     "output_type": "stream",
     "text": [
      "node1\n",
      "node2\n",
      "node3\n",
      "node4\n",
      "node5\n",
      "node6\n",
      "node7\n",
      "node8\n",
      "node10\n"
     ]
    }
   ],
   "source": [
    "#kill the used docker containers\n",
    "node_string = ''\n",
    "for n in nodes:\n",
    "    node_string = node_string + 'node{} '.format(int(n))\n",
    "! docker kill {node_string}\n",
    "\n"
   ]
  },
  {
   "cell_type": "code",
   "execution_count": null,
   "metadata": {},
   "outputs": [],
   "source": []
  }
 ],
 "metadata": {
  "kernelspec": {
   "display_name": "Python 3 (ipykernel)",
   "language": "python",
   "name": "python3"
  },
  "language_info": {
   "codemirror_mode": {
    "name": "ipython",
    "version": 3
   },
   "file_extension": ".py",
   "mimetype": "text/x-python",
   "name": "python",
   "nbconvert_exporter": "python",
   "pygments_lexer": "ipython3",
   "version": "3.10.8 | packaged by conda-forge | (main, Nov 24 2022, 14:07:00) [MSC v.1916 64 bit (AMD64)]"
  },
  "vscode": {
   "interpreter": {
    "hash": "dba9e21331eff32fe5aa769e314a83f59dd934d869c5be6d93786556aa7bed89"
   }
  }
 },
 "nbformat": 4,
 "nbformat_minor": 2
}
