{
 "cells": [
  {
   "attachments": {},
   "cell_type": "markdown",
   "metadata": {},
   "source": [
    "# Semester Project by Raphael Duarte and Thomas Riedl\n",
    "\n",
    "## Implementation of Distributed Depth-First-Search with gRPC and Docker\n",
    "### Overview of used Tools \n",
    "#### gRPC\n",
    "...\n",
    "#### Docker\n",
    "...\n",
    "\n",
    "### Implementation\n",
    "...\n",
    "#### Depth-First-Search\n",
    "...\n",
    "#### Communication between Nodes with gRPC\n",
    "\n",
    "#### Container orchestration with Docker compose\n",
    "\n",
    "\n",
    "\n"
   ]
  },
  {
   "cell_type": "code",
   "execution_count": 24,
   "metadata": {},
   "outputs": [
    {
     "data": {
      "image/png": "[encoded data removed]",
      "text/plain": [
       "<Figure size 640x480 with 1 Axes>"
      ]
     },
     "metadata": {},
     "output_type": "display_data"
    }
   ],
   "source": [
    "import yaml\n",
    "import numpy as np\n",
    "import networkx as nx\n",
    "import matplotlib.pyplot as plt\n",
    "edge_list = [[1,7], [1,2], [1,4], [1,6],\n",
    "             [2,1], [2,4], [2,3],\n",
    "             [3,2], [3,4], [3,6], [3,5], [3,7], [3,8], [3,10],\n",
    "             [4,1], [4,2], [4,3],[4,6], \n",
    "             [5,1], [5,3], [5,7],\n",
    "             [6,4], [6,3], [6,10],\n",
    "             [7,5], [7,3], [7,8],\n",
    "             [8,3], [8,7],\n",
    "             [10,3],[10,6]]\n",
    "\n",
    "def plot_input_graph(edge_list):\n",
    "    edges = np.unique(edge_list, axis=1)\n",
    "    G = nx.from_edgelist(edges)\n",
    "    pos = nx.spring_layout(G)\n",
    "    nx.draw(G, pos, node_size=1500, node_color='yellow', font_size=8, font_weight='bold',with_labels=True)\n",
    "    plt.savefig(\"../output/input_graph.png\")\n",
    "def get_neigbours_yaml(edge_list):\n",
    "    neighbours = {}\n",
    "    vertices = np.unique(edge_list)\n",
    "    for vertix in vertices:\n",
    "        neighbours_v = []\n",
    "        for edge in edge_list:\n",
    "            if np.any(edge ==vertix):\n",
    "                neighbour=int(edge[int(np.where(edge != vertix)[0])])\n",
    "                if neighbour not in neighbours_v:\n",
    "                    neighbours_v.append(neighbour)\n",
    "        neighbours_v.sort(reverse=True)\n",
    "        neighbours[int(vertix)] = neighbours_v\n",
    "    with open('neighbours.yml', 'w') as outfile:\n",
    "        yaml.dump(neighbours, outfile, default_flow_style=False)\n",
    "get_neigbours_yaml(edge_list)\n",
    "plot_input_graph(edge_list)"
   ]
  },
  {
   "cell_type": "code",
   "execution_count": 25,
   "metadata": {},
   "outputs": [],
   "source": [
    "def write_docker_compose_yml(edge_list,port):\n",
    "    vertices = np.unique(edge_list)\n",
    "    compose_file = {}\n",
    "    compose_file[\"version\"]=\"3\"\n",
    "    \n",
    "\n",
    "    services = {}\n",
    "    with open(\"ip_configuration.yml\",'r') as file_ip:\n",
    "        dict_ip = yaml.safe_load(file_ip)\n",
    "    for v in vertices:\n",
    "        node=       {\"build\":\n",
    "                        {\"context\": \".\",\n",
    "                         \"args\":\n",
    "                            {\"PORT\":port, \"NODE_ID\":int(v)}}, \n",
    "                    \"networks\": \n",
    "                        {\"frontend\": \n",
    "                            {\"ipv4_address\": dict_ip.get(int(v))}},\n",
    "                    \"command\":\"/bin/sh -c 'python3 dfs_server1.py'\", \n",
    "                    \"container_name\":\"node{}\".format(int(v)),\n",
    "                    \"volumes\":[\"./output:/grpc-docker/ddfs/output\"],\n",
    "                    }\n",
    "        services[\"n{}\".format(int(v))]=node\n",
    "\n",
    "    compose_file[\"services\"]= services\n",
    "    compose_file[\"networks\"]= {\"frontend\":\n",
    "                                    {\"ipam\":\n",
    "                                        {\"config\":\n",
    "                                            [{\"subnet\":\"172.20.0.0/24\"}],\n",
    "                                        }\n",
    "                                    }\n",
    "                                }                \n",
    "    with open('../docker-compose.yml', 'w') as outfile:\n",
    "        yaml.dump(compose_file, outfile, default_flow_style=False)\n",
    "    \n",
    "write_docker_compose_yml(edge_list,50051)\n"
   ]
  },
  {
   "cell_type": "markdown",
   "metadata": {},
   "source": []
  },
  {
   "cell_type": "code",
   "execution_count": null,
   "metadata": {},
   "outputs": [],
   "source": []
  },
  {
   "cell_type": "code",
   "execution_count": null,
   "metadata": {},
   "outputs": [],
   "source": []
  }
 ],
 "metadata": {
  "kernelspec": {
   "display_name": "ddfs",
   "language": "python",
   "name": "python3"
  },
  "language_info": {
   "codemirror_mode": {
    "name": "ipython",
    "version": 3
   },
   "file_extension": ".py",
   "mimetype": "text/x-python",
   "name": "python",
   "nbconvert_exporter": "python",
   "pygments_lexer": "ipython3",
   "version": "3.10.8"
  },
  "orig_nbformat": 4,
  "vscode": {
   "interpreter": {
    "hash": "dba9e21331eff32fe5aa769e314a83f59dd934d869c5be6d93786556aa7bed89"
   }
  }
 },
 "nbformat": 4,
 "nbformat_minor": 2
}
